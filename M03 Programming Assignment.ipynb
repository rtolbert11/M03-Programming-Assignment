{
 "cells": [
  {
   "cell_type": "markdown",
   "id": "eeb88740-e9d8-4fd0-960a-7f72da1e5662",
   "metadata": {},
   "source": [
    "7.4 Make a list called things with these three strings as elements: \"mozzarella\", \"cinderella\", \"salmonella\"."
   ]
  },
  {
   "cell_type": "code",
   "execution_count": 5,
   "id": "5ae66bf2-9aae-4ebd-89e3-efa012ad3010",
   "metadata": {},
   "outputs": [],
   "source": [
    "things=['mozzarella', 'cinderella', 'salmonella']"
   ]
  },
  {
   "cell_type": "markdown",
   "id": "f31add45-de26-4217-8f4a-40ce4a6743e0",
   "metadata": {},
   "source": [
    "7.5 Capitalize the element in things that refers to a person and then print the list. Did it change the element in the list?"
   ]
  },
  {
   "cell_type": "code",
   "execution_count": 7,
   "id": "426a8cd6-c383-4cff-b9f2-8461b4d9e58a",
   "metadata": {},
   "outputs": [
    {
     "name": "stdout",
     "output_type": "stream",
     "text": [
      "['mozzarella', 'Cinderella', 'salmonella']\n"
     ]
    }
   ],
   "source": [
    "things[1]=things[1].capitalize()\n",
    "print(things)"
   ]
  },
  {
   "cell_type": "markdown",
   "id": "03c6da6e-a2db-43d3-ab07-77ee0068cc90",
   "metadata": {},
   "source": [
    "Yes, Cinderella has been capitalized has it's the name of person."
   ]
  },
  {
   "cell_type": "markdown",
   "id": "21d1bf43-5653-4fe1-b0fa-fae05870c092",
   "metadata": {},
   "source": [
    "7.6 Make the cheesy element of things all uppercase and then print the list."
   ]
  },
  {
   "cell_type": "code",
   "execution_count": 8,
   "id": "704dfcf3-a8e0-41bb-880d-f72212d69ef4",
   "metadata": {},
   "outputs": [
    {
     "name": "stdout",
     "output_type": "stream",
     "text": [
      "['MOZZARELLA', 'Cinderella', 'salmonella']\n"
     ]
    }
   ],
   "source": [
    "things[0]=things[0].upper()\n",
    "print(things)"
   ]
  },
  {
   "cell_type": "markdown",
   "id": "3ada38c0-3a71-4781-9151-51bc24918aae",
   "metadata": {},
   "source": [
    "7.7 Delete the disease element from things, collect your Nobel Prize, and print the list."
   ]
  },
  {
   "cell_type": "code",
   "execution_count": 9,
   "id": "efdb4928-3c05-4cd6-940c-d15bf37a3f28",
   "metadata": {},
   "outputs": [
    {
     "name": "stdout",
     "output_type": "stream",
     "text": [
      "['MOZZARELLA', 'Cinderella']\n"
     ]
    }
   ],
   "source": [
    "things.remove(things[2])\n",
    "print(things)"
   ]
  },
  {
   "cell_type": "code",
   "execution_count": 11,
   "id": "1777053b-21c3-4576-86cc-d9893fdbbc21",
   "metadata": {},
   "outputs": [
    {
     "name": "stdout",
     "output_type": "stream",
     "text": [
      "['MOZZARELLA', 'Cinderella', 'Noble Prize']\n"
     ]
    }
   ],
   "source": [
    "things.append(\"Noble Prize\")\n",
    "print(things)"
   ]
  },
  {
   "cell_type": "markdown",
   "id": "0adaabf3-e94a-4792-934b-cd3599c9a65b",
   "metadata": {},
   "source": [
    "9.1 Define a function called good() that returns the following list: ['Harry', 'Ron', 'Hermione']."
   ]
  },
  {
   "cell_type": "code",
   "execution_count": 12,
   "id": "6f3ccd38-d8b1-4a00-b7df-f4c71a38ce86",
   "metadata": {},
   "outputs": [],
   "source": [
    "def good():\n",
    "  list_1 = ['Harry', 'Ron', 'Hermione']\n",
    "  return list_1"
   ]
  },
  {
   "cell_type": "markdown",
   "id": "88a8d67f-a17c-4235-8513-6a10e9527aec",
   "metadata": {},
   "source": [
    "9.2 Define a generator function called get_odds() that returns the odd numbers from range(10). Use a for loop to find and print the third value returned."
   ]
  },
  {
   "cell_type": "code",
   "execution_count": 13,
   "id": "fac0cb3d-01f7-4f85-b40e-d8934cf0dc17",
   "metadata": {},
   "outputs": [
    {
     "name": "stdout",
     "output_type": "stream",
     "text": [
      "5\n"
     ]
    }
   ],
   "source": [
    "def get_odds():\n",
    "    for num in range(10):\n",
    "        if num % 2 != 0:\n",
    "            yield num\n",
    "\n",
    "# Use the generator function in a for loop\n",
    "count = 0\n",
    "for num in get_odds():\n",
    "    if count == 2:\n",
    "        print(num)\n",
    "        break\n",
    "    count += 1"
   ]
  },
  {
   "cell_type": "code",
   "execution_count": null,
   "id": "d5af0f1b-f833-4a1b-aada-1510bac501f3",
   "metadata": {},
   "outputs": [],
   "source": []
  }
 ],
 "metadata": {
  "kernelspec": {
   "display_name": "Python 3 (ipykernel)",
   "language": "python",
   "name": "python3"
  },
  "language_info": {
   "codemirror_mode": {
    "name": "ipython",
    "version": 3
   },
   "file_extension": ".py",
   "mimetype": "text/x-python",
   "name": "python",
   "nbconvert_exporter": "python",
   "pygments_lexer": "ipython3",
   "version": "3.11.7"
  }
 },
 "nbformat": 4,
 "nbformat_minor": 5
}
